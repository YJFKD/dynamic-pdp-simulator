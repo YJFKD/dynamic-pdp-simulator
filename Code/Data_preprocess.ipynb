{
 "cells": [
  {
   "cell_type": "markdown",
   "source": [
    "# Food delivery data preprocess"
   ],
   "metadata": {}
  },
  {
   "cell_type": "markdown",
   "source": [
    "## Import packages"
   ],
   "metadata": {}
  },
  {
   "cell_type": "code",
   "execution_count": 1,
   "source": [
    "import pandas as pd\n",
    "import numpy as np\n",
    "import matplotlib.pyplot as plt"
   ],
   "outputs": [],
   "metadata": {}
  },
  {
   "cell_type": "code",
   "execution_count": 7,
   "source": [
    "data = pd.read_csv('../Data/food_delivery_data.csv')\n",
    "data.columns = ['store_id', 'promised delivery time', 'ordering time', 'latitude', 'longitude']\n",
    "data.head()"
   ],
   "outputs": [
    {
     "output_type": "execute_result",
     "data": {
      "text/plain": [
       "   store_id promised delivery time        ordering time   latitude   longitude\n",
       "0         1    2019-01-01 07:30:00  2019-01-01 06:30:07  31.167880  121.536578\n",
       "1         1    2019-01-01 07:30:00  2019-01-01 06:35:02  31.175481  121.537246\n",
       "2         1    2019-01-01 08:00:00  2019-01-01 06:47:55  31.179777  121.553969\n",
       "3         1    2019-01-01 08:00:00  2019-01-01 06:48:59  31.175272  121.540357\n",
       "4         1    2019-01-01 07:45:00  2019-01-01 06:50:00  31.175667  121.548509"
      ],
      "text/html": [
       "<div>\n",
       "<style scoped>\n",
       "    .dataframe tbody tr th:only-of-type {\n",
       "        vertical-align: middle;\n",
       "    }\n",
       "\n",
       "    .dataframe tbody tr th {\n",
       "        vertical-align: top;\n",
       "    }\n",
       "\n",
       "    .dataframe thead th {\n",
       "        text-align: right;\n",
       "    }\n",
       "</style>\n",
       "<table border=\"1\" class=\"dataframe\">\n",
       "  <thead>\n",
       "    <tr style=\"text-align: right;\">\n",
       "      <th></th>\n",
       "      <th>store_id</th>\n",
       "      <th>promised delivery time</th>\n",
       "      <th>ordering time</th>\n",
       "      <th>latitude</th>\n",
       "      <th>longitude</th>\n",
       "    </tr>\n",
       "  </thead>\n",
       "  <tbody>\n",
       "    <tr>\n",
       "      <th>0</th>\n",
       "      <td>1</td>\n",
       "      <td>2019-01-01 07:30:00</td>\n",
       "      <td>2019-01-01 06:30:07</td>\n",
       "      <td>31.167880</td>\n",
       "      <td>121.536578</td>\n",
       "    </tr>\n",
       "    <tr>\n",
       "      <th>1</th>\n",
       "      <td>1</td>\n",
       "      <td>2019-01-01 07:30:00</td>\n",
       "      <td>2019-01-01 06:35:02</td>\n",
       "      <td>31.175481</td>\n",
       "      <td>121.537246</td>\n",
       "    </tr>\n",
       "    <tr>\n",
       "      <th>2</th>\n",
       "      <td>1</td>\n",
       "      <td>2019-01-01 08:00:00</td>\n",
       "      <td>2019-01-01 06:47:55</td>\n",
       "      <td>31.179777</td>\n",
       "      <td>121.553969</td>\n",
       "    </tr>\n",
       "    <tr>\n",
       "      <th>3</th>\n",
       "      <td>1</td>\n",
       "      <td>2019-01-01 08:00:00</td>\n",
       "      <td>2019-01-01 06:48:59</td>\n",
       "      <td>31.175272</td>\n",
       "      <td>121.540357</td>\n",
       "    </tr>\n",
       "    <tr>\n",
       "      <th>4</th>\n",
       "      <td>1</td>\n",
       "      <td>2019-01-01 07:45:00</td>\n",
       "      <td>2019-01-01 06:50:00</td>\n",
       "      <td>31.175667</td>\n",
       "      <td>121.548509</td>\n",
       "    </tr>\n",
       "  </tbody>\n",
       "</table>\n",
       "</div>"
      ]
     },
     "metadata": {},
     "execution_count": 7
    }
   ],
   "metadata": {}
  },
  {
   "cell_type": "markdown",
   "source": [
    "## Add new columns"
   ],
   "metadata": {}
  },
  {
   "cell_type": "code",
   "execution_count": 8,
   "source": [
    "# create a new column ('delivery time (second)')\n",
    "import datetime\n",
    "\n",
    "data['delivery time (s)'] = 0\n",
    "\n",
    "for index, row in data.iterrows():\n",
    "    t1 = datetime.datetime.strptime(data['ordering time'][index], '%Y-%m-%d %H:%M:%S')\n",
    "    t2 = datetime.datetime.strptime(data['promised delivery time'][index], '%Y-%m-%d %H:%M:%S')\n",
    "    diff = int((t2 - t1).total_seconds())\n",
    "    data.at[index, 'delivery time (s)'] = diff\n",
    "\n",
    "# create a new column ('delivery time (minute)')\n",
    "data['ordering time'] = pd.to_datetime(data['ordering time'])\n",
    "data['promised delivery time'] = pd.to_datetime(data['promised delivery time'])\n",
    "data['delivery time (m)'] = (data['promised delivery time'] - data['ordering time']).astype('timedelta64[m]')\n",
    "\n",
    "data.head()"
   ],
   "outputs": [
    {
     "output_type": "execute_result",
     "data": {
      "text/plain": [
       "   store_id promised delivery time       ordering time   latitude   longitude  \\\n",
       "0         1    2019-01-01 07:30:00 2019-01-01 06:30:07  31.167880  121.536578   \n",
       "1         1    2019-01-01 07:30:00 2019-01-01 06:35:02  31.175481  121.537246   \n",
       "2         1    2019-01-01 08:00:00 2019-01-01 06:47:55  31.179777  121.553969   \n",
       "3         1    2019-01-01 08:00:00 2019-01-01 06:48:59  31.175272  121.540357   \n",
       "4         1    2019-01-01 07:45:00 2019-01-01 06:50:00  31.175667  121.548509   \n",
       "\n",
       "   delivery time (s)  delivery time (m)  \n",
       "0               3593               59.0  \n",
       "1               3298               54.0  \n",
       "2               4325               72.0  \n",
       "3               4261               71.0  \n",
       "4               3300               55.0  "
      ],
      "text/html": [
       "<div>\n",
       "<style scoped>\n",
       "    .dataframe tbody tr th:only-of-type {\n",
       "        vertical-align: middle;\n",
       "    }\n",
       "\n",
       "    .dataframe tbody tr th {\n",
       "        vertical-align: top;\n",
       "    }\n",
       "\n",
       "    .dataframe thead th {\n",
       "        text-align: right;\n",
       "    }\n",
       "</style>\n",
       "<table border=\"1\" class=\"dataframe\">\n",
       "  <thead>\n",
       "    <tr style=\"text-align: right;\">\n",
       "      <th></th>\n",
       "      <th>store_id</th>\n",
       "      <th>promised delivery time</th>\n",
       "      <th>ordering time</th>\n",
       "      <th>latitude</th>\n",
       "      <th>longitude</th>\n",
       "      <th>delivery time (s)</th>\n",
       "      <th>delivery time (m)</th>\n",
       "    </tr>\n",
       "  </thead>\n",
       "  <tbody>\n",
       "    <tr>\n",
       "      <th>0</th>\n",
       "      <td>1</td>\n",
       "      <td>2019-01-01 07:30:00</td>\n",
       "      <td>2019-01-01 06:30:07</td>\n",
       "      <td>31.167880</td>\n",
       "      <td>121.536578</td>\n",
       "      <td>3593</td>\n",
       "      <td>59.0</td>\n",
       "    </tr>\n",
       "    <tr>\n",
       "      <th>1</th>\n",
       "      <td>1</td>\n",
       "      <td>2019-01-01 07:30:00</td>\n",
       "      <td>2019-01-01 06:35:02</td>\n",
       "      <td>31.175481</td>\n",
       "      <td>121.537246</td>\n",
       "      <td>3298</td>\n",
       "      <td>54.0</td>\n",
       "    </tr>\n",
       "    <tr>\n",
       "      <th>2</th>\n",
       "      <td>1</td>\n",
       "      <td>2019-01-01 08:00:00</td>\n",
       "      <td>2019-01-01 06:47:55</td>\n",
       "      <td>31.179777</td>\n",
       "      <td>121.553969</td>\n",
       "      <td>4325</td>\n",
       "      <td>72.0</td>\n",
       "    </tr>\n",
       "    <tr>\n",
       "      <th>3</th>\n",
       "      <td>1</td>\n",
       "      <td>2019-01-01 08:00:00</td>\n",
       "      <td>2019-01-01 06:48:59</td>\n",
       "      <td>31.175272</td>\n",
       "      <td>121.540357</td>\n",
       "      <td>4261</td>\n",
       "      <td>71.0</td>\n",
       "    </tr>\n",
       "    <tr>\n",
       "      <th>4</th>\n",
       "      <td>1</td>\n",
       "      <td>2019-01-01 07:45:00</td>\n",
       "      <td>2019-01-01 06:50:00</td>\n",
       "      <td>31.175667</td>\n",
       "      <td>121.548509</td>\n",
       "      <td>3300</td>\n",
       "      <td>55.0</td>\n",
       "    </tr>\n",
       "  </tbody>\n",
       "</table>\n",
       "</div>"
      ]
     },
     "metadata": {},
     "execution_count": 8
    }
   ],
   "metadata": {}
  },
  {
   "cell_type": "code",
   "execution_count": 9,
   "source": [
    "from geopy import distance\n",
    "\n",
    "def distance_loc(p1, p2):\n",
    "    '''\n",
    "    Input: locations (latitude, longitude)\n",
    "     - p1: location 1\n",
    "     - p2: location 2\n",
    "    Output: distance in km\n",
    "    '''\n",
    "    return distance.distance(p1, p2).km"
   ],
   "outputs": [],
   "metadata": {}
  },
  {
   "cell_type": "code",
   "execution_count": 17,
   "source": [
    "# get the boundary of the restaurants\n",
    "restaurants = list(data['store_id'].unique())\n",
    "restaurants_dict = {k:[] for k in restaurants}\n",
    "boundary_dict = {k:[] for k in restaurants}\n",
    "data['distance (m)'] = 0.0\n",
    "\n",
    "for r in restaurants:\n",
    "    df = data.loc[data['store_id'] == r]\n",
    "\n",
    "    # get boundary\n",
    "    west = df.longitude.min()\n",
    "    east = df.longitude.max()\n",
    "    south = df.latitude.min()\n",
    "    north = df.latitude.max()\n",
    "    boundary_dict[r] = [west, east, south, north]\n",
    "\n",
    "    # restaurant location\n",
    "    r_longi = np.average([west, east])\n",
    "    r_latit = np.average([south, north])\n",
    "    restaurants_dict[r] = (r_latit, r_longi)\n",
    "\n",
    "restaurants_dict\n"
   ],
   "outputs": [
    {
     "output_type": "execute_result",
     "data": {
      "text/plain": [
       "{1: (31.1839785, 121.5382955), 2: (22.496323, 113.937388)}"
      ]
     },
     "metadata": {},
     "execution_count": 17
    }
   ],
   "metadata": {}
  },
  {
   "cell_type": "code",
   "execution_count": 19,
   "source": [
    "for index, row in data.iterrows():\n",
    "    r = row['store_id']\n",
    "    data.at[index, 'distance (m)'] = distance_loc((row['latitude'], row['longitude']), restaurants_dict[r]) * 1000\n",
    "\n",
    "data.head()"
   ],
   "outputs": [
    {
     "output_type": "execute_result",
     "data": {
      "text/plain": [
       "   store_id promised delivery time       ordering time   latitude   longitude  \\\n",
       "0         1    2019-01-01 07:30:00 2019-01-01 06:30:07  31.167880  121.536578   \n",
       "1         1    2019-01-01 07:30:00 2019-01-01 06:35:02  31.175481  121.537246   \n",
       "2         1    2019-01-01 08:00:00 2019-01-01 06:47:55  31.179777  121.553969   \n",
       "3         1    2019-01-01 08:00:00 2019-01-01 06:48:59  31.175272  121.540357   \n",
       "4         1    2019-01-01 07:45:00 2019-01-01 06:50:00  31.175667  121.548509   \n",
       "\n",
       "   delivery time (s)  delivery time (m)  distance  distance (m)  \n",
       "0               3593               59.0  1.792374   1792.374399  \n",
       "1               3298               54.0  0.947436    947.436336  \n",
       "2               4325               72.0  1.564975   1564.975000  \n",
       "3               4261               71.0  0.985111    985.111196  \n",
       "4               3300               55.0  1.340554   1340.554487  "
      ],
      "text/html": [
       "<div>\n",
       "<style scoped>\n",
       "    .dataframe tbody tr th:only-of-type {\n",
       "        vertical-align: middle;\n",
       "    }\n",
       "\n",
       "    .dataframe tbody tr th {\n",
       "        vertical-align: top;\n",
       "    }\n",
       "\n",
       "    .dataframe thead th {\n",
       "        text-align: right;\n",
       "    }\n",
       "</style>\n",
       "<table border=\"1\" class=\"dataframe\">\n",
       "  <thead>\n",
       "    <tr style=\"text-align: right;\">\n",
       "      <th></th>\n",
       "      <th>store_id</th>\n",
       "      <th>promised delivery time</th>\n",
       "      <th>ordering time</th>\n",
       "      <th>latitude</th>\n",
       "      <th>longitude</th>\n",
       "      <th>delivery time (s)</th>\n",
       "      <th>delivery time (m)</th>\n",
       "      <th>distance</th>\n",
       "      <th>distance (m)</th>\n",
       "    </tr>\n",
       "  </thead>\n",
       "  <tbody>\n",
       "    <tr>\n",
       "      <th>0</th>\n",
       "      <td>1</td>\n",
       "      <td>2019-01-01 07:30:00</td>\n",
       "      <td>2019-01-01 06:30:07</td>\n",
       "      <td>31.167880</td>\n",
       "      <td>121.536578</td>\n",
       "      <td>3593</td>\n",
       "      <td>59.0</td>\n",
       "      <td>1.792374</td>\n",
       "      <td>1792.374399</td>\n",
       "    </tr>\n",
       "    <tr>\n",
       "      <th>1</th>\n",
       "      <td>1</td>\n",
       "      <td>2019-01-01 07:30:00</td>\n",
       "      <td>2019-01-01 06:35:02</td>\n",
       "      <td>31.175481</td>\n",
       "      <td>121.537246</td>\n",
       "      <td>3298</td>\n",
       "      <td>54.0</td>\n",
       "      <td>0.947436</td>\n",
       "      <td>947.436336</td>\n",
       "    </tr>\n",
       "    <tr>\n",
       "      <th>2</th>\n",
       "      <td>1</td>\n",
       "      <td>2019-01-01 08:00:00</td>\n",
       "      <td>2019-01-01 06:47:55</td>\n",
       "      <td>31.179777</td>\n",
       "      <td>121.553969</td>\n",
       "      <td>4325</td>\n",
       "      <td>72.0</td>\n",
       "      <td>1.564975</td>\n",
       "      <td>1564.975000</td>\n",
       "    </tr>\n",
       "    <tr>\n",
       "      <th>3</th>\n",
       "      <td>1</td>\n",
       "      <td>2019-01-01 08:00:00</td>\n",
       "      <td>2019-01-01 06:48:59</td>\n",
       "      <td>31.175272</td>\n",
       "      <td>121.540357</td>\n",
       "      <td>4261</td>\n",
       "      <td>71.0</td>\n",
       "      <td>0.985111</td>\n",
       "      <td>985.111196</td>\n",
       "    </tr>\n",
       "    <tr>\n",
       "      <th>4</th>\n",
       "      <td>1</td>\n",
       "      <td>2019-01-01 07:45:00</td>\n",
       "      <td>2019-01-01 06:50:00</td>\n",
       "      <td>31.175667</td>\n",
       "      <td>121.548509</td>\n",
       "      <td>3300</td>\n",
       "      <td>55.0</td>\n",
       "      <td>1.340554</td>\n",
       "      <td>1340.554487</td>\n",
       "    </tr>\n",
       "  </tbody>\n",
       "</table>\n",
       "</div>"
      ]
     },
     "metadata": {},
     "execution_count": 19
    }
   ],
   "metadata": {}
  },
  {
   "cell_type": "code",
   "execution_count": 28,
   "source": [
    "corr = data['delivery time (s)'].corr(data['distance (m)'])\n",
    "corr"
   ],
   "outputs": [
    {
     "output_type": "execute_result",
     "data": {
      "text/plain": [
       "0.051988352112812816"
      ]
     },
     "metadata": {},
     "execution_count": 28
    }
   ],
   "metadata": {}
  },
  {
   "cell_type": "markdown",
   "source": [
    "## Write data to file"
   ],
   "metadata": {}
  },
  {
   "cell_type": "code",
   "execution_count": 26,
   "source": [
    "# get date\n",
    "dates = [i.strftime('%Y-%m-%d') for i in data['promised delivery time'].dt.date.unique()]\n",
    "print(dates)\n",
    "\n",
    "for r in restaurants:\n",
    "    # for each restaurant\n",
    "    df = data.loc[data['store_id'] == r]\n",
    "    df.to_csv(f'../Data/restaurant_{r}.csv')\n",
    "    print(f'Finish writing data with restaurant {r}.')\n",
    "\n",
    "    # for each date\n",
    "    for d in dates:\n",
    "        df_time = df.loc[df['promised delivery time'].dt.date == datetime.datetime.strptime(d,'%Y-%m-%d').date()]\n",
    "        df_time.to_csv(f'../Data/restaurant_{r}_{d}.csv')\n",
    "        print(f'Finish writing data with restaurant {r} in day {d} to csv file.')\n",
    "\n",
    "print('Finish data writing!')"
   ],
   "outputs": [
    {
     "output_type": "stream",
     "name": "stdout",
     "text": [
      "['2019-01-01', '2019-01-02', '2019-01-03', '2019-01-04', '2019-01-05', '2018-12-09', '2018-12-10', '2018-12-11', '2018-12-12', '2018-12-13', '2018-12-14', '2018-12-15', '2018-12-30', '2018-12-31', '2019-01-06', '2019-01-07', '2019-01-08', '2019-01-09', '2019-01-10', '2019-01-11', '2019-01-12']\n",
      "Finish writing data with restaurant 1.\n",
      "Finish writing data with restaurant 1 in day 2019-01-01 to csv file.\n",
      "Finish writing data with restaurant 1 in day 2019-01-02 to csv file.\n",
      "Finish writing data with restaurant 1 in day 2019-01-03 to csv file.\n",
      "Finish writing data with restaurant 1 in day 2019-01-04 to csv file.\n",
      "Finish writing data with restaurant 1 in day 2019-01-05 to csv file.\n",
      "Finish writing data with restaurant 1 in day 2018-12-09 to csv file.\n",
      "Finish writing data with restaurant 1 in day 2018-12-10 to csv file.\n",
      "Finish writing data with restaurant 1 in day 2018-12-11 to csv file.\n",
      "Finish writing data with restaurant 1 in day 2018-12-12 to csv file.\n",
      "Finish writing data with restaurant 1 in day 2018-12-13 to csv file.\n",
      "Finish writing data with restaurant 1 in day 2018-12-14 to csv file.\n",
      "Finish writing data with restaurant 1 in day 2018-12-15 to csv file.\n",
      "Finish writing data with restaurant 1 in day 2018-12-30 to csv file.\n",
      "Finish writing data with restaurant 1 in day 2018-12-31 to csv file.\n",
      "Finish writing data with restaurant 1 in day 2019-01-06 to csv file.\n",
      "Finish writing data with restaurant 1 in day 2019-01-07 to csv file.\n",
      "Finish writing data with restaurant 1 in day 2019-01-08 to csv file.\n",
      "Finish writing data with restaurant 1 in day 2019-01-09 to csv file.\n",
      "Finish writing data with restaurant 1 in day 2019-01-10 to csv file.\n",
      "Finish writing data with restaurant 1 in day 2019-01-11 to csv file.\n",
      "Finish writing data with restaurant 1 in day 2019-01-12 to csv file.\n",
      "Finish writing data with restaurant 2.\n",
      "Finish writing data with restaurant 2 in day 2019-01-01 to csv file.\n",
      "Finish writing data with restaurant 2 in day 2019-01-02 to csv file.\n",
      "Finish writing data with restaurant 2 in day 2019-01-03 to csv file.\n",
      "Finish writing data with restaurant 2 in day 2019-01-04 to csv file.\n",
      "Finish writing data with restaurant 2 in day 2019-01-05 to csv file.\n",
      "Finish writing data with restaurant 2 in day 2018-12-09 to csv file.\n",
      "Finish writing data with restaurant 2 in day 2018-12-10 to csv file.\n",
      "Finish writing data with restaurant 2 in day 2018-12-11 to csv file.\n",
      "Finish writing data with restaurant 2 in day 2018-12-12 to csv file.\n",
      "Finish writing data with restaurant 2 in day 2018-12-13 to csv file.\n",
      "Finish writing data with restaurant 2 in day 2018-12-14 to csv file.\n",
      "Finish writing data with restaurant 2 in day 2018-12-15 to csv file.\n",
      "Finish writing data with restaurant 2 in day 2018-12-30 to csv file.\n",
      "Finish writing data with restaurant 2 in day 2018-12-31 to csv file.\n",
      "Finish writing data with restaurant 2 in day 2019-01-06 to csv file.\n",
      "Finish writing data with restaurant 2 in day 2019-01-07 to csv file.\n",
      "Finish writing data with restaurant 2 in day 2019-01-08 to csv file.\n",
      "Finish writing data with restaurant 2 in day 2019-01-09 to csv file.\n",
      "Finish writing data with restaurant 2 in day 2019-01-10 to csv file.\n",
      "Finish writing data with restaurant 2 in day 2019-01-11 to csv file.\n",
      "Finish writing data with restaurant 2 in day 2019-01-12 to csv file.\n",
      "Finish data writing!\n"
     ]
    }
   ],
   "metadata": {}
  },
  {
   "cell_type": "code",
   "execution_count": null,
   "source": [
    " "
   ],
   "outputs": [],
   "metadata": {}
  }
 ],
 "metadata": {
  "kernelspec": {
   "name": "python3",
   "display_name": "Python 3.7.10 64-bit ('d2l': conda)"
  },
  "language_info": {
   "codemirror_mode": {
    "name": "ipython",
    "version": 3
   },
   "file_extension": ".py",
   "mimetype": "text/x-python",
   "name": "python",
   "nbconvert_exporter": "python",
   "pygments_lexer": "ipython3",
   "version": "3.7.10"
  },
  "interpreter": {
   "hash": "1263883b180b8da35d7c354451881c6a97439cec7755c704984fb08ba01aa159"
  }
 },
 "nbformat": 4,
 "nbformat_minor": 5
}