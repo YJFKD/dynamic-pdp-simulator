{
    "cells": [
        {
            "cell_type": "code",
            "execution_count": 1,
            "source": [
                "3 + 5"
            ],
            "outputs": [
                {
                    "output_type": "execute_result",
                    "data": {
                        "text/plain": [
                            "8"
                        ]
                    },
                    "metadata": {},
                    "execution_count": 1
                }
            ],
            "metadata": {}
        },
        {
            "cell_type": "code",
            "execution_count": null,
            "source": [],
            "outputs": [],
            "metadata": {}
        }
    ],
    "metadata": {
        "orig_nbformat": 4,
        "language_info": {
            "name": "python",
            "version": "3.7.10",
            "mimetype": "text/x-python",
            "codemirror_mode": {
                "name": "ipython",
                "version": 3
            },
            "pygments_lexer": "ipython3",
            "nbconvert_exporter": "python",
            "file_extension": ".py"
        },
        "kernelspec": {
            "name": "python3",
            "display_name": "Python 3.7.10 64-bit ('d2l': conda)"
        },
        "interpreter": {
            "hash": "1263883b180b8da35d7c354451881c6a97439cec7755c704984fb08ba01aa159"
        }
    },
    "nbformat": 4,
    "nbformat_minor": 2
}